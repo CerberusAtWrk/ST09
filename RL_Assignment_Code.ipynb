{
  "nbformat": 4,
  "nbformat_minor": 0,
  "metadata": {
    "colab": {
      "name": "RL_Assignment_Code.ipynb",
      "provenance": [],
      "collapsed_sections": [],
      "include_colab_link": true
    },
    "kernelspec": {
      "name": "python3",
      "display_name": "Python 3"
    },
    "accelerator": "GPU"
  },
  "cells": [
    {
      "cell_type": "markdown",
      "metadata": {
        "id": "view-in-github",
        "colab_type": "text"
      },
      "source": [
        "<a href=\"https://colab.research.google.com/github/CerberusAtWrk/ST09/blob/main/RL_Assignment_Code.ipynb\" target=\"_parent\"><img src=\"https://colab.research.google.com/assets/colab-badge.svg\" alt=\"Open In Colab\"/></a>"
      ]
    },
    {
      "cell_type": "code",
      "metadata": {
        "id": "udtLxTQyiNUz"
      },
      "source": [
        "import numpy as np\n",
        "import tensorflow as tf \n",
        "import gym\n",
        "import tensorflow_probability as tfp\n",
        "import tensorflow.keras.losses as kls"
      ],
      "execution_count": null,
      "outputs": []
    },
    {
      "cell_type": "code",
      "metadata": {
        "id": "4X3S4uD_m-e_"
      },
      "source": [
        "env= gym.make(\"CartPole-v0\")\n",
        "low = env.observation_space.low\n",
        "high = env.observation_space.high"
      ],
      "execution_count": null,
      "outputs": []
    },
    {
      "cell_type": "code",
      "metadata": {
        "id": "pAZ_YRduimE0"
      },
      "source": [
        "class critic(tf.keras.Model):\n",
        "  def __init__(self):\n",
        "    super().__init__()\n",
        "    self.d1 = tf.keras.layers.Dense(128,activation='relu')\n",
        "    self.v = tf.keras.layers.Dense(1, activation = None)\n",
        "\n",
        "  def call(self, input_data):\n",
        "    x = self.d1(input_data)\n",
        "    v = self.v(x)\n",
        "    return v\n",
        "    \n",
        "\n",
        "class actor(tf.keras.Model):\n",
        "  def __init__(self):\n",
        "    super().__init__()\n",
        "    self.d1 = tf.keras.layers.Dense(128,activation='relu')\n",
        "    self.a = tf.keras.layers.Dense(2,activation='softmax')\n",
        "\n",
        "  def call(self, input_data):\n",
        "    x = self.d1(input_data)\n",
        "    a = self.a(x)\n",
        "    return a"
      ],
      "execution_count": null,
      "outputs": []
    },
    {
      "cell_type": "code",
      "metadata": {
        "id": "D0-5_oxXmwT9"
      },
      "source": [
        "class agent():\n",
        "    def __init__(self, gamma = 0.99):\n",
        "        self.gamma = gamma\n",
        "        self.a_opt = tf.keras.optimizers.Adam(learning_rate=7e-3)\n",
        "        self.c_opt = tf.keras.optimizers.Adam(learning_rate=7e-3)\n",
        "        self.actor = actor()\n",
        "        self.critic = critic()\n",
        "        self.clip_pram = 0.2\n",
        "\n",
        "          \n",
        "    def act(self,state):\n",
        "        prob = self.actor(np.array([state]))\n",
        "        prob = prob.numpy()\n",
        "        dist = tfp.distributions.Categorical(probs=prob, dtype=tf.float32)\n",
        "        action = dist.sample()\n",
        "        return int(action.numpy()[0])\n",
        "  \n",
        "\n",
        "\n",
        "    def actor_loss(self, probs, actions, adv, old_probs, closs):\n",
        "        \n",
        "        probability = probs      \n",
        "        entropy = tf.reduce_mean(tf.math.negative(tf.math.multiply(probability,tf.math.log(probability))))\n",
        "        sur1 = []\n",
        "        sur2 = []\n",
        "        \n",
        "        for pb, t, op in zip(probability, adv, old_probs):\n",
        "                        t =  tf.constant(t)\n",
        "                        op =  tf.constant(op)\n",
        "                        ratio = tf.math.divide(pb,op)\n",
        "                        s1 = tf.math.multiply(ratio,t)\n",
        "                        s2 =  tf.math.multiply(tf.clip_by_value(ratio, 1.0 - self.clip_pram, 1.0 + self.clip_pram),t)\n",
        "                        sur1.append(s1)\n",
        "                        sur2.append(s2)\n",
        "\n",
        "        sr1 = tf.stack(sur1)\n",
        "        sr2 = tf.stack(sur2)\n",
        "        \n",
        "        loss = tf.math.negative(tf.reduce_mean(tf.math.minimum(sr1, sr2)) - closs + 0.001 * entropy)\n",
        "        return loss\n",
        "\n",
        "    def learn(self, states, actions,  adv , old_probs, discnt_rewards):\n",
        "        discnt_rewards = tf.reshape(discnt_rewards, (len(discnt_rewards),))\n",
        "        adv = tf.reshape(adv, (len(adv),))\n",
        "\n",
        "        old_p = old_probs\n",
        "\n",
        "        old_p = tf.reshape(old_p, (len(old_p),2))\n",
        "        with tf.GradientTape() as tape1, tf.GradientTape() as tape2:\n",
        "            p = self.actor(states, training=True)\n",
        "            v =  self.critic(states,training=True)\n",
        "            v = tf.reshape(v, (len(v),))\n",
        "            td = tf.math.subtract(discnt_rewards, v)\n",
        "            c_loss = 0.5 * kls.mean_squared_error(discnt_rewards, v)\n",
        "            a_loss = self.actor_loss(p, actions, adv, old_probs, c_loss)\n",
        "            \n",
        "        grads1 = tape1.gradient(a_loss, self.actor.trainable_variables)\n",
        "        grads2 = tape2.gradient(c_loss, self.critic.trainable_variables)\n",
        "        self.a_opt.apply_gradients(zip(grads1, self.actor.trainable_variables))\n",
        "        self.c_opt.apply_gradients(zip(grads2, self.critic.trainable_variables))\n",
        "        return a_loss, c_loss"
      ],
      "execution_count": null,
      "outputs": []
    },
    {
      "cell_type": "code",
      "metadata": {
        "id": "F3ariUMAZgrE"
      },
      "source": [
        "def test_reward(env):\n",
        "  total_reward = 0\n",
        "  state = env.reset()\n",
        "  done = False\n",
        "  while not done:\n",
        "    action = np.argmax(agentoo7.actor(np.array([state])).numpy())\n",
        "    next_state, reward, done, _ = env.step(action)\n",
        "    state = next_state\n",
        "    total_reward += reward\n",
        "\n",
        "  return total_reward"
      ],
      "execution_count": null,
      "outputs": []
    },
    {
      "cell_type": "code",
      "metadata": {
        "id": "vk4Phsi1tvS-",
        "colab": {
          "base_uri": "https://localhost:8080/",
          "height": 1000
        },
        "outputId": "53043b19-7e0a-4e6a-8d7a-cfba6ea517a3"
      },
      "source": [
        "\n",
        "def preprocess1(states, actions, rewards, done, values, gamma):\n",
        "    g = 0\n",
        "    lmbda = 0.95\n",
        "    returns = []\n",
        "    for i in reversed(range(len(rewards))):\n",
        "       delta = rewards[i] + gamma * values[i + 1] * done[i] - values[i]\n",
        "       g = delta + gamma * lmbda * dones[i] * g\n",
        "       returns.append(g + values[i])\n",
        "\n",
        "    returns.reverse()\n",
        "    adv = np.array(returns, dtype=np.float32) - values[:-1]\n",
        "    adv = (adv - np.mean(adv)) / (np.std(adv) + 1e-10)\n",
        "    states = np.array(states, dtype=np.float32)\n",
        "    actions = np.array(actions, dtype=np.int32)\n",
        "    returns = np.array(returns, dtype=np.float32)\n",
        "    return states, actions, returns, adv    \n",
        "\n",
        "\n",
        "tf.random.set_seed(336699)\n",
        "agentoo7 = agent()\n",
        "steps = 5000\n",
        "ep_reward = []\n",
        "total_avgr = []\n",
        "target = False \n",
        "best_reward = 0\n",
        "prev_reward = 0\n",
        "avg_rewards_list = []\n",
        "\n",
        "\n",
        "for s in range(steps):\n",
        "  if target == True:\n",
        "          break \n",
        "  done = False\n",
        "  state = env.reset()\n",
        "  all_aloss = []\n",
        "  all_closs = []\n",
        "  rewards = []\n",
        "  states = []\n",
        "  actions = []\n",
        "  probs = []\n",
        "  dones = []\n",
        "  values = []\n",
        "  print(\"new episode\")\n",
        "\n",
        "  for e in range(128):\n",
        "   \n",
        "    action = agentoo7.act(state)\n",
        "    value = agentoo7.critic(np.array([state])).numpy()\n",
        "    next_state, reward, done, _ = env.step(action)\n",
        "    dones.append(1-done)\n",
        "    rewards.append(reward)\n",
        "    states.append(state)\n",
        "    actions.append(action)\n",
        "    prob = agentoo7.actor(np.array([state]))\n",
        "    probs.append(prob[0])\n",
        "    values.append(value[0][0])\n",
        "    state = next_state\n",
        "    if done:\n",
        "      env.reset()\n",
        "  \n",
        "  value = agentoo7.critic(np.array([state])).numpy()\n",
        "  values.append(value[0][0])\n",
        "  np.reshape(probs, (len(probs),2))\n",
        "  probs = np.stack(probs, axis=0)\n",
        "\n",
        "  states, actions,returns, adv  = preprocess1(states, actions, rewards, dones, values, 1)\n",
        "\n",
        "  for epocs in range(10):\n",
        "      al,cl = agentoo7.learn(states, actions, adv, probs, returns)  \n",
        "\n",
        "  avg_reward = np.mean([test_reward(env) for _ in range(5)])\n",
        "  print(f\"total test reward is {avg_reward}\")\n",
        "  avg_rewards_list.append(avg_reward)\n",
        "  if avg_reward > best_reward:\n",
        "        print('best reward=' + str(avg_reward))\n",
        "        agentoo7.actor.save('model_actor_{}_{}'.format(s, avg_reward), save_format=\"tf\")\n",
        "        agentoo7.critic.save('model_critic_{}_{}'.format(s, avg_reward), save_format=\"tf\")\n",
        "        best_reward = avg_reward\n",
        "  if best_reward == 200 and prev_reward == best_reward:\n",
        "        target = True\n",
        "  prev_reward = best_reward\n",
        "  env.reset()\n",
        "\n",
        "env.close()"
      ],
      "execution_count": null,
      "outputs": [
        {
          "output_type": "stream",
          "text": [
            "new episode\n",
            "total test reward is 45.6\n",
            "best reward=45.6\n",
            "INFO:tensorflow:Assets written to: model_actor_0_45.6/assets\n",
            "INFO:tensorflow:Assets written to: model_critic_0_45.6/assets\n",
            "new episode\n",
            "total test reward is 98.6\n",
            "best reward=98.6\n",
            "INFO:tensorflow:Assets written to: model_actor_1_98.6/assets\n",
            "INFO:tensorflow:Assets written to: model_critic_1_98.6/assets\n",
            "new episode\n",
            "total test reward is 45.4\n",
            "new episode\n",
            "total test reward is 80.8\n",
            "new episode\n",
            "total test reward is 47.4\n",
            "new episode\n",
            "total test reward is 63.8\n",
            "new episode\n",
            "total test reward is 49.6\n",
            "new episode\n",
            "total test reward is 80.6\n",
            "new episode\n",
            "total test reward is 119.8\n",
            "best reward=119.8\n",
            "INFO:tensorflow:Assets written to: model_actor_8_119.8/assets\n",
            "INFO:tensorflow:Assets written to: model_critic_8_119.8/assets\n",
            "new episode\n",
            "total test reward is 112.6\n",
            "new episode\n",
            "total test reward is 80.8\n",
            "new episode\n",
            "total test reward is 68.4\n",
            "new episode\n",
            "total test reward is 113.8\n",
            "new episode\n",
            "total test reward is 198.8\n",
            "best reward=198.8\n",
            "INFO:tensorflow:Assets written to: model_actor_13_198.8/assets\n",
            "INFO:tensorflow:Assets written to: model_critic_13_198.8/assets\n",
            "new episode\n",
            "total test reward is 154.2\n",
            "new episode\n",
            "total test reward is 69.6\n",
            "new episode\n",
            "total test reward is 105.0\n",
            "new episode\n",
            "total test reward is 65.4\n",
            "new episode\n",
            "total test reward is 38.2\n",
            "new episode\n",
            "total test reward is 34.6\n",
            "new episode\n",
            "total test reward is 33.4\n",
            "new episode\n",
            "total test reward is 35.8\n",
            "new episode\n",
            "total test reward is 47.2\n",
            "new episode\n",
            "total test reward is 41.2\n",
            "new episode\n",
            "total test reward is 36.4\n",
            "new episode\n",
            "total test reward is 36.0\n",
            "new episode\n",
            "total test reward is 33.4\n",
            "new episode\n",
            "total test reward is 31.8\n",
            "new episode\n"
          ],
          "name": "stdout"
        },
        {
          "output_type": "error",
          "ename": "KeyboardInterrupt",
          "evalue": "ignored",
          "traceback": [
            "\u001b[0;31m---------------------------------------------------------------------------\u001b[0m",
            "\u001b[0;31mKeyboardInterrupt\u001b[0m                         Traceback (most recent call last)",
            "\u001b[0;32m<ipython-input-21-d10be7488824>\u001b[0m in \u001b[0;36m<module>\u001b[0;34m()\u001b[0m\n\u001b[1;32m     68\u001b[0m \u001b[0;34m\u001b[0m\u001b[0m\n\u001b[1;32m     69\u001b[0m   \u001b[0;32mfor\u001b[0m \u001b[0mepocs\u001b[0m \u001b[0;32min\u001b[0m \u001b[0mrange\u001b[0m\u001b[0;34m(\u001b[0m\u001b[0;36m10\u001b[0m\u001b[0;34m)\u001b[0m\u001b[0;34m:\u001b[0m\u001b[0;34m\u001b[0m\u001b[0;34m\u001b[0m\u001b[0m\n\u001b[0;32m---> 70\u001b[0;31m       \u001b[0mal\u001b[0m\u001b[0;34m,\u001b[0m\u001b[0mcl\u001b[0m \u001b[0;34m=\u001b[0m \u001b[0magentoo7\u001b[0m\u001b[0;34m.\u001b[0m\u001b[0mlearn\u001b[0m\u001b[0;34m(\u001b[0m\u001b[0mstates\u001b[0m\u001b[0;34m,\u001b[0m \u001b[0mactions\u001b[0m\u001b[0;34m,\u001b[0m \u001b[0madv\u001b[0m\u001b[0;34m,\u001b[0m \u001b[0mprobs\u001b[0m\u001b[0;34m,\u001b[0m \u001b[0mreturns\u001b[0m\u001b[0;34m)\u001b[0m\u001b[0;34m\u001b[0m\u001b[0;34m\u001b[0m\u001b[0m\n\u001b[0m\u001b[1;32m     71\u001b[0m \u001b[0;34m\u001b[0m\u001b[0m\n\u001b[1;32m     72\u001b[0m   \u001b[0mavg_reward\u001b[0m \u001b[0;34m=\u001b[0m \u001b[0mnp\u001b[0m\u001b[0;34m.\u001b[0m\u001b[0mmean\u001b[0m\u001b[0;34m(\u001b[0m\u001b[0;34m[\u001b[0m\u001b[0mtest_reward\u001b[0m\u001b[0;34m(\u001b[0m\u001b[0menv\u001b[0m\u001b[0;34m)\u001b[0m \u001b[0;32mfor\u001b[0m \u001b[0m_\u001b[0m \u001b[0;32min\u001b[0m \u001b[0mrange\u001b[0m\u001b[0;34m(\u001b[0m\u001b[0;36m5\u001b[0m\u001b[0;34m)\u001b[0m\u001b[0;34m]\u001b[0m\u001b[0;34m)\u001b[0m\u001b[0;34m\u001b[0m\u001b[0;34m\u001b[0m\u001b[0m\n",
            "\u001b[0;32m<ipython-input-19-76f777c67cef>\u001b[0m in \u001b[0;36mlearn\u001b[0;34m(self, states, actions, adv, old_probs, discnt_rewards)\u001b[0m\n\u001b[1;32m     55\u001b[0m             \u001b[0ma_loss\u001b[0m \u001b[0;34m=\u001b[0m \u001b[0mself\u001b[0m\u001b[0;34m.\u001b[0m\u001b[0mactor_loss\u001b[0m\u001b[0;34m(\u001b[0m\u001b[0mp\u001b[0m\u001b[0;34m,\u001b[0m \u001b[0mactions\u001b[0m\u001b[0;34m,\u001b[0m \u001b[0madv\u001b[0m\u001b[0;34m,\u001b[0m \u001b[0mold_probs\u001b[0m\u001b[0;34m,\u001b[0m \u001b[0mc_loss\u001b[0m\u001b[0;34m)\u001b[0m\u001b[0;34m\u001b[0m\u001b[0;34m\u001b[0m\u001b[0m\n\u001b[1;32m     56\u001b[0m \u001b[0;34m\u001b[0m\u001b[0m\n\u001b[0;32m---> 57\u001b[0;31m         \u001b[0mgrads1\u001b[0m \u001b[0;34m=\u001b[0m \u001b[0mtape1\u001b[0m\u001b[0;34m.\u001b[0m\u001b[0mgradient\u001b[0m\u001b[0;34m(\u001b[0m\u001b[0ma_loss\u001b[0m\u001b[0;34m,\u001b[0m \u001b[0mself\u001b[0m\u001b[0;34m.\u001b[0m\u001b[0mactor\u001b[0m\u001b[0;34m.\u001b[0m\u001b[0mtrainable_variables\u001b[0m\u001b[0;34m)\u001b[0m\u001b[0;34m\u001b[0m\u001b[0;34m\u001b[0m\u001b[0m\n\u001b[0m\u001b[1;32m     58\u001b[0m         \u001b[0mgrads2\u001b[0m \u001b[0;34m=\u001b[0m \u001b[0mtape2\u001b[0m\u001b[0;34m.\u001b[0m\u001b[0mgradient\u001b[0m\u001b[0;34m(\u001b[0m\u001b[0mc_loss\u001b[0m\u001b[0;34m,\u001b[0m \u001b[0mself\u001b[0m\u001b[0;34m.\u001b[0m\u001b[0mcritic\u001b[0m\u001b[0;34m.\u001b[0m\u001b[0mtrainable_variables\u001b[0m\u001b[0;34m)\u001b[0m\u001b[0;34m\u001b[0m\u001b[0;34m\u001b[0m\u001b[0m\n\u001b[1;32m     59\u001b[0m         \u001b[0mself\u001b[0m\u001b[0;34m.\u001b[0m\u001b[0ma_opt\u001b[0m\u001b[0;34m.\u001b[0m\u001b[0mapply_gradients\u001b[0m\u001b[0;34m(\u001b[0m\u001b[0mzip\u001b[0m\u001b[0;34m(\u001b[0m\u001b[0mgrads1\u001b[0m\u001b[0;34m,\u001b[0m \u001b[0mself\u001b[0m\u001b[0;34m.\u001b[0m\u001b[0mactor\u001b[0m\u001b[0;34m.\u001b[0m\u001b[0mtrainable_variables\u001b[0m\u001b[0;34m)\u001b[0m\u001b[0;34m)\u001b[0m\u001b[0;34m\u001b[0m\u001b[0;34m\u001b[0m\u001b[0m\n",
            "\u001b[0;32m/usr/local/lib/python3.7/dist-packages/tensorflow/python/eager/backprop.py\u001b[0m in \u001b[0;36mgradient\u001b[0;34m(self, target, sources, output_gradients, unconnected_gradients)\u001b[0m\n\u001b[1;32m   1084\u001b[0m         \u001b[0moutput_gradients\u001b[0m\u001b[0;34m=\u001b[0m\u001b[0moutput_gradients\u001b[0m\u001b[0;34m,\u001b[0m\u001b[0;34m\u001b[0m\u001b[0;34m\u001b[0m\u001b[0m\n\u001b[1;32m   1085\u001b[0m         \u001b[0msources_raw\u001b[0m\u001b[0;34m=\u001b[0m\u001b[0mflat_sources_raw\u001b[0m\u001b[0;34m,\u001b[0m\u001b[0;34m\u001b[0m\u001b[0;34m\u001b[0m\u001b[0m\n\u001b[0;32m-> 1086\u001b[0;31m         unconnected_gradients=unconnected_gradients)\n\u001b[0m\u001b[1;32m   1087\u001b[0m \u001b[0;34m\u001b[0m\u001b[0m\n\u001b[1;32m   1088\u001b[0m     \u001b[0;32mif\u001b[0m \u001b[0;32mnot\u001b[0m \u001b[0mself\u001b[0m\u001b[0;34m.\u001b[0m\u001b[0m_persistent\u001b[0m\u001b[0;34m:\u001b[0m\u001b[0;34m\u001b[0m\u001b[0;34m\u001b[0m\u001b[0m\n",
            "\u001b[0;32m/usr/local/lib/python3.7/dist-packages/tensorflow/python/eager/imperative_grad.py\u001b[0m in \u001b[0;36mimperative_grad\u001b[0;34m(tape, target, sources, output_gradients, sources_raw, unconnected_gradients)\u001b[0m\n\u001b[1;32m     75\u001b[0m       \u001b[0moutput_gradients\u001b[0m\u001b[0;34m,\u001b[0m\u001b[0;34m\u001b[0m\u001b[0;34m\u001b[0m\u001b[0m\n\u001b[1;32m     76\u001b[0m       \u001b[0msources_raw\u001b[0m\u001b[0;34m,\u001b[0m\u001b[0;34m\u001b[0m\u001b[0;34m\u001b[0m\u001b[0m\n\u001b[0;32m---> 77\u001b[0;31m       compat.as_str(unconnected_gradients.value))\n\u001b[0m",
            "\u001b[0;32m/usr/local/lib/python3.7/dist-packages/tensorflow/python/eager/backprop.py\u001b[0m in \u001b[0;36m_gradient_function\u001b[0;34m(op_name, attr_tuple, num_inputs, inputs, outputs, out_grads, skip_input_indices, forward_pass_name_scope)\u001b[0m\n\u001b[1;32m    160\u001b[0m       \u001b[0mgradient_name_scope\u001b[0m \u001b[0;34m+=\u001b[0m \u001b[0mforward_pass_name_scope\u001b[0m \u001b[0;34m+\u001b[0m \u001b[0;34m\"/\"\u001b[0m\u001b[0;34m\u001b[0m\u001b[0;34m\u001b[0m\u001b[0m\n\u001b[1;32m    161\u001b[0m     \u001b[0;32mwith\u001b[0m \u001b[0mops\u001b[0m\u001b[0;34m.\u001b[0m\u001b[0mname_scope\u001b[0m\u001b[0;34m(\u001b[0m\u001b[0mgradient_name_scope\u001b[0m\u001b[0;34m)\u001b[0m\u001b[0;34m:\u001b[0m\u001b[0;34m\u001b[0m\u001b[0;34m\u001b[0m\u001b[0m\n\u001b[0;32m--> 162\u001b[0;31m       \u001b[0;32mreturn\u001b[0m \u001b[0mgrad_fn\u001b[0m\u001b[0;34m(\u001b[0m\u001b[0mmock_op\u001b[0m\u001b[0;34m,\u001b[0m \u001b[0;34m*\u001b[0m\u001b[0mout_grads\u001b[0m\u001b[0;34m)\u001b[0m\u001b[0;34m\u001b[0m\u001b[0;34m\u001b[0m\u001b[0m\n\u001b[0m\u001b[1;32m    163\u001b[0m   \u001b[0;32melse\u001b[0m\u001b[0;34m:\u001b[0m\u001b[0;34m\u001b[0m\u001b[0;34m\u001b[0m\u001b[0m\n\u001b[1;32m    164\u001b[0m     \u001b[0;32mreturn\u001b[0m \u001b[0mgrad_fn\u001b[0m\u001b[0;34m(\u001b[0m\u001b[0mmock_op\u001b[0m\u001b[0;34m,\u001b[0m \u001b[0;34m*\u001b[0m\u001b[0mout_grads\u001b[0m\u001b[0;34m)\u001b[0m\u001b[0;34m\u001b[0m\u001b[0;34m\u001b[0m\u001b[0m\n",
            "\u001b[0;32m/usr/local/lib/python3.7/dist-packages/tensorflow/python/ops/array_grad.py\u001b[0m in \u001b[0;36m_StridedSliceGrad\u001b[0;34m(op, grad)\u001b[0m\n\u001b[1;32m    293\u001b[0m       \u001b[0mellipsis_mask\u001b[0m\u001b[0;34m=\u001b[0m\u001b[0mop\u001b[0m\u001b[0;34m.\u001b[0m\u001b[0mget_attr\u001b[0m\u001b[0;34m(\u001b[0m\u001b[0;34m\"ellipsis_mask\"\u001b[0m\u001b[0;34m)\u001b[0m\u001b[0;34m,\u001b[0m\u001b[0;34m\u001b[0m\u001b[0;34m\u001b[0m\u001b[0m\n\u001b[1;32m    294\u001b[0m       \u001b[0mnew_axis_mask\u001b[0m\u001b[0;34m=\u001b[0m\u001b[0mop\u001b[0m\u001b[0;34m.\u001b[0m\u001b[0mget_attr\u001b[0m\u001b[0;34m(\u001b[0m\u001b[0;34m\"new_axis_mask\"\u001b[0m\u001b[0;34m)\u001b[0m\u001b[0;34m,\u001b[0m\u001b[0;34m\u001b[0m\u001b[0;34m\u001b[0m\u001b[0m\n\u001b[0;32m--> 295\u001b[0;31m       shrink_axis_mask=op.get_attr(\"shrink_axis_mask\")), None, None, None\n\u001b[0m\u001b[1;32m    296\u001b[0m \u001b[0;34m\u001b[0m\u001b[0m\n\u001b[1;32m    297\u001b[0m \u001b[0;34m\u001b[0m\u001b[0m\n",
            "\u001b[0;32m/usr/local/lib/python3.7/dist-packages/tensorflow/python/ops/gen_array_ops.py\u001b[0m in \u001b[0;36mstrided_slice_grad\u001b[0;34m(shape, begin, end, strides, dy, begin_mask, end_mask, ellipsis_mask, new_axis_mask, shrink_axis_mask, name)\u001b[0m\n\u001b[1;32m  10637\u001b[0m         \u001b[0;34m\"begin_mask\"\u001b[0m\u001b[0;34m,\u001b[0m \u001b[0mbegin_mask\u001b[0m\u001b[0;34m,\u001b[0m \u001b[0;34m\"end_mask\"\u001b[0m\u001b[0;34m,\u001b[0m \u001b[0mend_mask\u001b[0m\u001b[0;34m,\u001b[0m \u001b[0;34m\"ellipsis_mask\"\u001b[0m\u001b[0;34m,\u001b[0m\u001b[0;34m\u001b[0m\u001b[0;34m\u001b[0m\u001b[0m\n\u001b[1;32m  10638\u001b[0m         \u001b[0mellipsis_mask\u001b[0m\u001b[0;34m,\u001b[0m \u001b[0;34m\"new_axis_mask\"\u001b[0m\u001b[0;34m,\u001b[0m \u001b[0mnew_axis_mask\u001b[0m\u001b[0;34m,\u001b[0m \u001b[0;34m\"shrink_axis_mask\"\u001b[0m\u001b[0;34m,\u001b[0m\u001b[0;34m\u001b[0m\u001b[0;34m\u001b[0m\u001b[0m\n\u001b[0;32m> 10639\u001b[0;31m         shrink_axis_mask)\n\u001b[0m\u001b[1;32m  10640\u001b[0m       \u001b[0;32mreturn\u001b[0m \u001b[0m_result\u001b[0m\u001b[0;34m\u001b[0m\u001b[0;34m\u001b[0m\u001b[0m\n\u001b[1;32m  10641\u001b[0m     \u001b[0;32mexcept\u001b[0m \u001b[0m_core\u001b[0m\u001b[0;34m.\u001b[0m\u001b[0m_NotOkStatusException\u001b[0m \u001b[0;32mas\u001b[0m \u001b[0me\u001b[0m\u001b[0;34m:\u001b[0m\u001b[0;34m\u001b[0m\u001b[0;34m\u001b[0m\u001b[0m\n",
            "\u001b[0;31mKeyboardInterrupt\u001b[0m: "
          ]
        }
      ]
    },
    {
      "cell_type": "code",
      "metadata": {
        "id": "fFe9N8TxGVkR"
      },
      "source": [
        "import matplotlib.pyplot as plt"
      ],
      "execution_count": null,
      "outputs": []
    },
    {
      "cell_type": "code",
      "metadata": {
        "id": "pquOE2v0Snsh",
        "colab": {
          "base_uri": "https://localhost:8080/",
          "height": 295
        },
        "outputId": "81182e39-cc8b-4e6d-e54b-e3ecd825a4da"
      },
      "source": [
        "ep = [i  for i in range(len(avg_rewards_list))]\n",
        "plt.plot( range(len(avg_rewards_list)),avg_rewards_list,'b')\n",
        "plt.title(\"Avg Test Aeward Vs Test Episods\")\n",
        "plt.xlabel(\"Test Episods\")\n",
        "plt.ylabel(\"Average Test Reward\")\n",
        "plt.grid(True)\n",
        "plt.show()"
      ],
      "execution_count": null,
      "outputs": [
        {
          "output_type": "display_data",
          "data": {
            "image/png": "[encoded data removed]",
            "text/plain": [
              "<Figure size 432x288 with 1 Axes>"
            ]
          },
          "metadata": {
            "tags": [],
            "needs_background": "light"
          }
        }
      ]
    },
    {
      "cell_type": "code",
      "metadata": {
        "id": "iLdRQZDYBQ54"
      },
      "source": [
        ""
      ],
      "execution_count": null,
      "outputs": []
    }
  ]
}